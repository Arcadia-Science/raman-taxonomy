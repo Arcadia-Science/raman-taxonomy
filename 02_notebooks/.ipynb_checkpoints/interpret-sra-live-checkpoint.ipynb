{
 "cells": [
  {
   "cell_type": "markdown",
   "id": "487ad35c",
   "metadata": {},
   "source": [
    "# Search ~500,000 metagenomes for matches to a genome sequence\n",
    "\n",
    "See [the GitHub repo](https://github.com/sourmash-bio/2022-search-sra-with-mastiff) for more info!\n",
    "\n",
    "The mastiff server is unpublished work by Luiz Irber - please [file an issue](https://github.com/dib-lab/sourmash/issues) if you are interested in how to cite it."
   ]
  },
  {
   "cell_type": "markdown",
   "id": "342d1324",
   "metadata": {},
   "source": [
    "## Python miscellany\n",
    "\n",
    "Import all the Python libraries we need to use"
   ]
  },
  {
   "cell_type": "code",
   "execution_count": 1,
   "id": "0b6af9cd",
   "metadata": {},
   "outputs": [],
   "source": [
    "import pandas as pd\n",
    "import os\n",
    "import sourmash, screed\n",
    "import io\n",
    "import urllib3"
   ]
  },
  {
   "cell_type": "markdown",
   "id": "bd2baaa3",
   "metadata": {},
   "source": [
    "## Download SRA metadata information.\n",
    "\n",
    "This is a precomputed CSV that we download once per instance; it's used to summarize the `ScientificName` (i.e. metagenome type) of matches at the bottom."
   ]
  },
  {
   "cell_type": "code",
   "execution_count": 2,
   "id": "fe12875c",
   "metadata": {},
   "outputs": [
    {
     "name": "stdout",
     "output_type": "stream",
     "text": [
      "--2023-02-02 09:14:40--  https://osf.io/download/762mk/\n",
      "Resolving osf.io (osf.io)... 35.190.84.173\n",
      "Connecting to osf.io (osf.io)|35.190.84.173|:443... connected.\n",
      "HTTP request sent, awaiting response... 302 FOUND\n",
      "Location: https://files.osf.io/v1/resources/v5e7t/providers/osfstorage/630bb6d2f7c12c3bae91d02a [following]\n",
      "--2023-02-02 09:14:40--  https://files.osf.io/v1/resources/v5e7t/providers/osfstorage/630bb6d2f7c12c3bae91d02a\n",
      "Resolving files.osf.io (files.osf.io)... 35.186.214.196\n",
      "Connecting to files.osf.io (files.osf.io)|35.186.214.196|:443... connected.\n",
      "HTTP request sent, awaiting response... 302 Found\n",
      "Location: https://storage.googleapis.com/cos-osf-prod-files-us/b15ce5352b62bcb071d8e4cff6f7c0b21e18eb1e45ad32592bcc1481ad1e6199?response-content-disposition=attachment%3B%20filename%3D%22sra.runinfo.csv.gz%22%3B%20filename%2A%3DUTF-8%27%27sra.runinfo.csv.gz&GoogleAccessId=files-us%40cos-osf-prod.iam.gserviceaccount.com&Expires=1675358141&Signature=Y%2FipUBx90xgR7I4XpzQcTFUT3OYeScrKrALPQe1RNI4vPhLdlkQ1IwM4XDoAmp%2BozHHXvfPUm6iEMHQSm22K8KJnCmPcCVPBIzevOJTchkcwTUmOJUl0zZi9Mwts%2BzJE9%2FjtYBaCwJIjHeYfB%2BBRSNXSJgg3pUXZrHC9kpM66Flz%2BKi8l7Xn61gjrA19aE9K55nakVBvzadBMJVYMFuChA%2Blc9%2FDEBZL3atP7HfEuj1Iwe1MhagOYOd2L7h3CpeZCj9%2B3KFSRsKpdxdZz8SGDk1ZWurkJ1144KXtr%2BjsrpiQqqnmjV%2FYAVS3j%2BlVTwGmu5wsahUGMOdFOIYAsJcVlA%3D%3D [following]\n",
      "--2023-02-02 09:14:41--  https://storage.googleapis.com/cos-osf-prod-files-us/b15ce5352b62bcb071d8e4cff6f7c0b21e18eb1e45ad32592bcc1481ad1e6199?response-content-disposition=attachment%3B%20filename%3D%22sra.runinfo.csv.gz%22%3B%20filename%2A%3DUTF-8%27%27sra.runinfo.csv.gz&GoogleAccessId=files-us%40cos-osf-prod.iam.gserviceaccount.com&Expires=1675358141&Signature=Y%2FipUBx90xgR7I4XpzQcTFUT3OYeScrKrALPQe1RNI4vPhLdlkQ1IwM4XDoAmp%2BozHHXvfPUm6iEMHQSm22K8KJnCmPcCVPBIzevOJTchkcwTUmOJUl0zZi9Mwts%2BzJE9%2FjtYBaCwJIjHeYfB%2BBRSNXSJgg3pUXZrHC9kpM66Flz%2BKi8l7Xn61gjrA19aE9K55nakVBvzadBMJVYMFuChA%2Blc9%2FDEBZL3atP7HfEuj1Iwe1MhagOYOd2L7h3CpeZCj9%2B3KFSRsKpdxdZz8SGDk1ZWurkJ1144KXtr%2BjsrpiQqqnmjV%2FYAVS3j%2BlVTwGmu5wsahUGMOdFOIYAsJcVlA%3D%3D\n",
      "Resolving storage.googleapis.com (storage.googleapis.com)... 172.217.164.112, 142.250.189.208, 142.250.189.240, ...\n",
      "Connecting to storage.googleapis.com (storage.googleapis.com)|172.217.164.112|:443... connected.\n",
      "HTTP request sent, awaiting response... 200 OK\n",
      "Length: 3989374 (3.8M) [application/octet-stream]\n",
      "Saving to: ‘sra.runinfo.csv.gz’\n",
      "\n",
      "sra.runinfo.csv.gz  100%[===================>]   3.80M  19.3MB/s    in 0.2s    \n",
      "\n",
      "2023-02-02 09:14:42 (19.3 MB/s) - ‘sra.runinfo.csv.gz’ saved [3989374/3989374]\n",
      "\n"
     ]
    }
   ],
   "source": [
    "!wget --no-clobber https://osf.io/download/762mk/ -O sra.runinfo.csv.gz"
   ]
  },
  {
   "cell_type": "markdown",
   "id": "db3e871c",
   "metadata": {},
   "source": [
    "## Load the SRA metadata into a pandas dataframe"
   ]
  },
  {
   "cell_type": "code",
   "execution_count": 3,
   "id": "7a72d081",
   "metadata": {},
   "outputs": [
    {
     "name": "stdout",
     "output_type": "stream",
     "text": [
      "Loaded 702013 records from sra.runinfo.csv.gz\n"
     ]
    },
    {
     "data": {
      "text/html": [
       "<div>\n",
       "<style scoped>\n",
       "    .dataframe tbody tr th:only-of-type {\n",
       "        vertical-align: middle;\n",
       "    }\n",
       "\n",
       "    .dataframe tbody tr th {\n",
       "        vertical-align: top;\n",
       "    }\n",
       "\n",
       "    .dataframe thead th {\n",
       "        text-align: right;\n",
       "    }\n",
       "</style>\n",
       "<table border=\"1\" class=\"dataframe\">\n",
       "  <thead>\n",
       "    <tr style=\"text-align: right;\">\n",
       "      <th></th>\n",
       "      <th>Unnamed: 0</th>\n",
       "      <th>Run</th>\n",
       "      <th>ScientificName</th>\n",
       "    </tr>\n",
       "  </thead>\n",
       "  <tbody>\n",
       "    <tr>\n",
       "      <th>0</th>\n",
       "      <td>0</td>\n",
       "      <td>SRR18036904</td>\n",
       "      <td>bovine metagenome</td>\n",
       "    </tr>\n",
       "    <tr>\n",
       "      <th>1</th>\n",
       "      <td>1</td>\n",
       "      <td>SRR18036905</td>\n",
       "      <td>bovine metagenome</td>\n",
       "    </tr>\n",
       "    <tr>\n",
       "      <th>2</th>\n",
       "      <td>2</td>\n",
       "      <td>SRR18036906</td>\n",
       "      <td>bovine metagenome</td>\n",
       "    </tr>\n",
       "    <tr>\n",
       "      <th>3</th>\n",
       "      <td>3</td>\n",
       "      <td>SRR18036907</td>\n",
       "      <td>bovine metagenome</td>\n",
       "    </tr>\n",
       "    <tr>\n",
       "      <th>4</th>\n",
       "      <td>4</td>\n",
       "      <td>SRR18036908</td>\n",
       "      <td>bovine metagenome</td>\n",
       "    </tr>\n",
       "  </tbody>\n",
       "</table>\n",
       "</div>"
      ],
      "text/plain": [
       "   Unnamed: 0          Run     ScientificName\n",
       "0           0  SRR18036904  bovine metagenome\n",
       "1           1  SRR18036905  bovine metagenome\n",
       "2           2  SRR18036906  bovine metagenome\n",
       "3           3  SRR18036907  bovine metagenome\n",
       "4           4  SRR18036908  bovine metagenome"
      ]
     },
     "execution_count": 3,
     "metadata": {},
     "output_type": "execute_result"
    }
   ],
   "source": [
    "run_info = pd.read_csv('sra.runinfo.csv.gz')\n",
    "print(f\"Loaded {len(run_info)} records from sra.runinfo.csv.gz\")\n",
    "run_info.head()"
   ]
  },
  {
   "cell_type": "markdown",
   "id": "25a43468",
   "metadata": {},
   "source": [
    "## Generate a sourmash sketch for a query\n",
    "\n",
    "In order to query mastiff with a genome, we need to sketch the genome using [sourmash](https://sourmash.readthedocs.io/). Here use the Python interface for sourmash.\n",
    "\n",
    "The below code loads all of the sequence data using [the screed library](https://screed.readthedocs.io/), and feeds it into a sourmash [FracMinHash sketch](https://dib-lab.github.io/2020-paper-sourmash-gather/).\n",
    "\n",
    "You can replace the `QUERY_SEQUENCE_FILE` with your own query filename, if you like. It should be over 10kb in size (ideally you want ~5-10 hashes to result in order for the query to be robust)."
   ]
  },
  {
   "cell_type": "code",
   "execution_count": 53,
   "id": "bf92950e",
   "metadata": {},
   "outputs": [
    {
     "name": "stdout",
     "output_type": "stream",
     "text": [
      "generated 2799 hashes by sketching 2.82136e+06 bp from '../00_data/ho_et_al_2019/genomes/Staphylococcus_aureus_GCF_000013425.1_ASM1342v1_genomic.fna.gz'\n"
     ]
    }
   ],
   "source": [
    "# generate sourmash sketch\n",
    "#QUERY_SEQUENCE_FILE='sequences/shewanella.fa.gz'\n",
    "QUERY_SEQUENCE_FILE='../00_data/ho_et_al_2019/genomes/Staphylococcus_aureus_GCF_000013425.1_ASM1342v1_genomic.fna.gz'\n",
    "\n",
    "\n",
    "total_bp = 0\n",
    "\n",
    "sketch = sourmash.MinHash(0, 21, scaled=1000)\n",
    "with screed.open(QUERY_SEQUENCE_FILE) as records:\n",
    "    for record in records:\n",
    "        sketch.add_sequence(record.sequence, force=True)\n",
    "        total_bp += len(record.sequence)\n",
    "        \n",
    "print(f\"generated {len(sketch)} hashes by sketching {total_bp:g} bp from '{QUERY_SEQUENCE_FILE}'\")\n"
   ]
  },
  {
   "cell_type": "markdown",
   "id": "61f55d76",
   "metadata": {},
   "source": [
    "## Serialize the sourmash sketch\n",
    "\n",
    "Now, we convert the sourmash sketch into gzipped JSON bytes."
   ]
  },
  {
   "cell_type": "code",
   "execution_count": 54,
   "id": "24eb711e",
   "metadata": {},
   "outputs": [
    {
     "name": "stdout",
     "output_type": "stream",
     "text": [
      "serialized sourmash signature into 23564 bytes.\n"
     ]
    }
   ],
   "source": [
    "# serialize to SourmashSignature / gzipped JSON\n",
    "ss = sourmash.SourmashSignature(sketch)\n",
    "\n",
    "buf = io.BytesIO()\n",
    "sourmash.save_signatures([ss], buf, compression=True)\n",
    "print(f\"serialized sourmash signature into {len(buf.getvalue())} bytes.\")"
   ]
  },
  {
   "cell_type": "markdown",
   "id": "1cd2c23a",
   "metadata": {},
   "source": [
    "## Query the mastiff server\n",
    "\n",
    "Next, use `urllib3` to contact the mastiff server, send in the sourmash signature information, and get the results."
   ]
  },
  {
   "cell_type": "code",
   "execution_count": null,
   "id": "47da93e9",
   "metadata": {},
   "outputs": [],
   "source": [
    "# query mastiff\n",
    "http = urllib3.PoolManager()\n",
    "r = http.request('POST',\n",
    "                 'https://mastiff.sourmash.bio/search',\n",
    "                 body = buf.getvalue(),\n",
    "                 headers = { 'Content-Type': 'application/json'})\n",
    "\n",
    "query_results_text = r.data.decode('utf-8')"
   ]
  },
  {
   "cell_type": "markdown",
   "id": "255d2ebd",
   "metadata": {},
   "source": [
    "## Parse the mastiff results as CSV\n",
    "\n",
    "mastiff returns the results in CSV format, with two columns - the SRA accession, and the containment index of the query.\n",
    "\n",
    "The containment index is calculated as the number of hashes in the query that are present in a matching metagenome, divided by the total number of hashes in the query. A containment of 1.0 means every hash in the query sketch is present, and estimates that the original query sequence is entirely present; a containment of 0.5 means that 50% of the query sketch is present, suggesting that only about half of the query sequence is actually in the metagenome."
   ]
  },
  {
   "cell_type": "code",
   "execution_count": null,
   "id": "e4912aae",
   "metadata": {},
   "outputs": [],
   "source": [
    "# load results into a pandas data frame\n",
    "results_wrap_fp = io.StringIO(query_results_text)\n",
    "mastiff0_df = pd.read_csv(results_wrap_fp)\n",
    "\n",
    "print(f\"Loaded {len(mastiff0_df)} mastiff results into a dataframe!\")"
   ]
  },
  {
   "cell_type": "markdown",
   "id": "414453dc",
   "metadata": {},
   "source": [
    "## Explore the results\n",
    "\n",
    "Look at the best and worst matches."
   ]
  },
  {
   "cell_type": "code",
   "execution_count": null,
   "id": "f30a3b7a",
   "metadata": {},
   "outputs": [],
   "source": [
    "mastiff0_df.head()"
   ]
  },
  {
   "cell_type": "code",
   "execution_count": null,
   "id": "ea3d2cbc",
   "metadata": {},
   "outputs": [],
   "source": [
    "mastiff0_df.tail()"
   ]
  },
  {
   "cell_type": "markdown",
   "id": "be60b056",
   "metadata": {},
   "source": [
    "## Discard matches below a containment of 0.2\n",
    "\n",
    "Per [our work on containment ANI](https://github.com/sourmash-bio/sourmash/issues/1859), this corresponds to a minimum of 92% average nucleotide identity."
   ]
  },
  {
   "cell_type": "code",
   "execution_count": null,
   "id": "36ba51c3",
   "metadata": {},
   "outputs": [],
   "source": [
    "THRESHOLD=0.2\n",
    "\n",
    "mastiff_df = mastiff0_df[mastiff0_df['containment'] >= THRESHOLD]\n",
    "print(f\"Filtering results at a containment of >= {THRESHOLD:.2f}; {len(mastiff_df)} of {len(mastiff0_df)} left.\")"
   ]
  },
  {
   "cell_type": "markdown",
   "id": "b480d8b5",
   "metadata": {},
   "source": [
    "## Explore metagenome \"types\" through `Scientific Name`\n",
    "\n",
    "Now, correlate results with the `ScientificName` metadata, which records which \"kind\" of metagenome this is."
   ]
  },
  {
   "cell_type": "code",
   "execution_count": null,
   "id": "724bcf39",
   "metadata": {},
   "outputs": [],
   "source": [
    "mastiff2_df = mastiff_df.set_index('SRA accession').join(run_info.set_index('Run')['ScientificName'])\n",
    "mastiff2_df.head()"
   ]
  },
  {
   "cell_type": "code",
   "execution_count": null,
   "id": "f1e11b86",
   "metadata": {},
   "outputs": [],
   "source": [
    "# how many have 'null' scientific name?\n",
    "null_df = mastiff2_df[mastiff2_df['ScientificName'].isnull()]\n",
    "print(len(null_df))"
   ]
  },
  {
   "cell_type": "code",
   "execution_count": null,
   "id": "53a0deeb",
   "metadata": {},
   "outputs": [],
   "source": [
    "mastiff3_df = mastiff2_df[~mastiff2_df['ScientificName'].isnull()]\n",
    "print(f\"Of {len(mastiff2_df)} MAGsearch results, {len(mastiff3_df)} have non-null ScientificName\")\n",
    "mastiff3_df.head()"
   ]
  },
  {
   "cell_type": "markdown",
   "id": "9803ccc9",
   "metadata": {},
   "source": [
    "## Group and aggregate by metagenome type\n",
    "\n",
    "Explore which types of metagenomes tend to contain this query."
   ]
  },
  {
   "cell_type": "code",
   "execution_count": null,
   "id": "461ae616",
   "metadata": {},
   "outputs": [],
   "source": [
    "# what are the top ScientificNames of the matches?\n",
    "mastiff3_df[\"ScientificName\"].value_counts()[:20]"
   ]
  },
  {
   "cell_type": "code",
   "execution_count": null,
   "id": "78682dda",
   "metadata": {},
   "outputs": [],
   "source": []
  }
 ],
 "metadata": {
  "kernelspec": {
   "display_name": "Python 3 (ipykernel)",
   "language": "python",
   "name": "python3"
  },
  "language_info": {
   "codemirror_mode": {
    "name": "ipython",
    "version": 3
   },
   "file_extension": ".py",
   "mimetype": "text/x-python",
   "name": "python",
   "nbconvert_exporter": "python",
   "pygments_lexer": "ipython3",
   "version": "3.9.6"
  }
 },
 "nbformat": 4,
 "nbformat_minor": 5
}
