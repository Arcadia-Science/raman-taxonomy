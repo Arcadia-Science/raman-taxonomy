{
 "cells": [
  {
   "cell_type": "markdown",
   "id": "b0f2f800",
   "metadata": {},
   "source": [
    "# Notebook 1: Code for 'Identifying the phylogenetic utility of Raman spectra'"
   ]
  },
  {
   "cell_type": "markdown",
   "id": "e664d046",
   "metadata": {},
   "source": [
    "---\n",
    "\n",
    "><font size=\"3\"> This notebook contains all the code necessary to reproduce the results from the pub 'Identifying the phylogenetic utility of Raman spectra'. These analyses explore the presence of phylogenetic information in Raman spectra using a publicly available [dataset](https://www.nature.com/articles/s41467-019-12898-9) comprised of 30 clinically isolated strains of bacteria and fungi. All the references to the figures throughout this notebook refer to the figures included in the final pub. TODO: link to PubPub draft\n",
    "\n",
    "><font size=\"3\"> First, we will explore the relationship of strain-level spectra with different levels of the taxonomic hierarchy. We will then test for the presence of phylogenetic signal in the spectra and analyze the evolutionary patterns associated with conserved portions of the spectra. Finally, we will assess the extent to which features of the genome are predictive of evolutionary signals present in Raman spectra.\n",
    "    \n",
    "><font size=\"3\"> All the necessary data and code are available via [GitHub](https://github.com/Arcadia-Science/raman-taxonomy).  \n",
    ">\n",
    "   \n",
    "---"
   ]
  },
  {
   "cell_type": "markdown",
   "id": "4dcdfe11",
   "metadata": {},
   "source": [
    "## Initiating workspace and loading data"
   ]
  },
  {
   "cell_type": "markdown",
   "id": "09dea08a",
   "metadata": {},
   "source": [
    "<font size=\"3\"> Set working directory, and import libraries."
   ]
  },
  {
   "cell_type": "code",
   "execution_count": 123,
   "id": "dfea3858",
   "metadata": {
    "vscode": {
     "languageId": "r"
    }
   },
   "outputs": [
    {
     "data": {
      "text/html": [
       "'/Users/ryanyork/Documents/Research/github/raman-taxonomy/../'"
      ],
      "text/latex": [
       "'/Users/ryanyork/Documents/Research/github/raman-taxonomy/../'"
      ],
      "text/markdown": [
       "'/Users/ryanyork/Documents/Research/github/raman-taxonomy/../'"
      ],
      "text/plain": [
       "[1] \"/Users/ryanyork/Documents/Research/github/raman-taxonomy/../\""
      ]
     },
     "metadata": {},
     "output_type": "display_data"
    }
   ],
   "source": [
    "library(here)\n",
    "library(reticulate)\n",
    "library(plotrix)\n",
    "library(lsa)\n",
    "library(ape)\n",
    "library(phytools)\n",
    "library(scales)\n",
    "library(ArcadiaColorBrewer)\n",
    "library(TreeDist)\n",
    "\n",
    "# Import numpy\n",
    "np <- import(\"numpy\")\n",
    "\n",
    "# Should be set to the root of the repository\n",
    "here::here('../')\n",
    "setwd(here::here())"
   ]
  },
  {
   "cell_type": "markdown",
   "id": "1ad4c866",
   "metadata": {},
   "source": [
    "<font size=\"3\"> Source functions."
   ]
  },
  {
   "cell_type": "code",
   "execution_count": 124,
   "id": "41909100",
   "metadata": {
    "vscode": {
     "languageId": "r"
    }
   },
   "outputs": [],
   "source": [
    "# Get windows function\n",
    "split_with_overlap <- function(vec, seg_length, overlap) {\n",
    "  starts <- seq(from = 1, to = length(vec), by = seg_length - overlap)\n",
    "  ends <- pmin(starts + seg_length - 1, length(vec))\n",
    "  Map(function(i, j) vec[i:j], starts, ends)\n",
    "}"
   ]
  },
  {
   "cell_type": "markdown",
   "id": "1226343b",
   "metadata": {},
   "source": [
    "<font size=\"3\"> Load spectral data and config script (contains strain name info etc.)."
   ]
  },
  {
   "cell_type": "code",
   "execution_count": 125,
   "id": "65109cd9",
   "metadata": {
    "vscode": {
     "languageId": "r"
    }
   },
   "outputs": [],
   "source": [
    "# Load Ho et al. 2019 spectral data\n",
    "x <- np$load(\"00_data/ho_2019/x_finetune.npy\")\n",
    "y = np$load('00_data/ho_2019/y_finetune.npy')\n",
    "\n",
    "# Reverse to ensure wavenumbers are ascending\n",
    "x <- x[, ncol(x):1]\n",
    "\n",
    "# Load config (contains strain name info, etc.)\n",
    "config <- source_python(\"00_data/strain_config.py\")\n",
    "\n",
    "# Get names by ordering strains (have to +1 order since its 0 indexed as in python; R wants to start with 1)\n",
    "n <- unlist(STRAINS)\n",
    "\n",
    "# Load wavenumbers\n",
    "wav <- rev(np$load(\"00_data/ho_2019/wavenumbers.npy\"))\n",
    "\n",
    "# Load taxonomic groups (collected from NCBI)\n",
    "taxa <- read.csv(\"00_data/ncbi/taxonomic_groups.csv\")"
   ]
  },
  {
   "cell_type": "markdown",
   "id": "87bd8988",
   "metadata": {},
   "source": [
    "<font size=\"3\"> Calculate mean spectra for all strains."
   ]
  },
  {
   "cell_type": "code",
   "execution_count": 126,
   "id": "1ca1dd0b",
   "metadata": {
    "vscode": {
     "languageId": "r"
    }
   },
   "outputs": [],
   "source": [
    "# Calculate the mean spectra for all strains by splitting on strain and extracting column means\n",
    "m <- lapply(split(as.data.frame(x), y), function(z)\n",
    "  colMeans(z))\n",
    "\n",
    "# Recombine\n",
    "m <- do.call(rbind, m)\n",
    "\n",
    "# Add rownames corresponding to strain ID\n",
    "rownames(m) <- n"
   ]
  },
  {
   "cell_type": "markdown",
   "id": "57211771",
   "metadata": {},
   "source": [
    "<font size=\"3\"> Calculate the standard error across spectra for all strains."
   ]
  },
  {
   "cell_type": "code",
   "execution_count": 127,
   "id": "d11dbdba",
   "metadata": {
    "vscode": {
     "languageId": "r"
    }
   },
   "outputs": [],
   "source": [
    "# Calculate spectral standard error for all strains\n",
    "se <- lapply(split(as.data.frame(x), y), function(z) {\n",
    "  apply(z, 2, function(w)\n",
    "    plotrix::std.error(w))\n",
    "})\n",
    "\n",
    "# Recombine\n",
    "se <- do.call(rbind, se)\n",
    "\n",
    "# Add rownames corresponding to strain ID\n",
    "rownames(se) <- n"
   ]
  },
  {
   "cell_type": "markdown",
   "id": "e79018c7",
   "metadata": {},
   "source": [
    "<font size=\"3\"> Save means and standard errors as .RDS files."
   ]
  },
  {
   "cell_type": "code",
   "execution_count": 128,
   "id": "f84ca4ee",
   "metadata": {
    "vscode": {
     "languageId": "r"
    }
   },
   "outputs": [],
   "source": [
    "saveRDS(se, '02_outputs/ho_et_al_spectra_se.RDS')\n",
    "saveRDS(m, '02_outputs/ho_et_al_spectra_means.RDS')"
   ]
  },
  {
   "cell_type": "markdown",
   "id": "91f66c59",
   "metadata": {},
   "source": [
    "## Visualizing spectra (as in Figure 1)"
   ]
  },
  {
   "cell_type": "markdown",
   "id": "60f54b51",
   "metadata": {},
   "source": [
    "---\n",
    "\n",
    "><font size=\"3\"> In this section, we will plot strain-level spectra (and their variation across experimental replicates), colored by taxonomic identity.\n",
    "\n",
    "---"
   ]
  },
  {
   "cell_type": "markdown",
   "id": "d9e95dad",
   "metadata": {},
   "source": [
    "<font size=\"3\"> Generate taxonomic matrix that matches length of sample matrix."
   ]
  },
  {
   "cell_type": "code",
   "execution_count": 129,
   "id": "5f900686",
   "metadata": {
    "vscode": {
     "languageId": "r"
    }
   },
   "outputs": [],
   "source": [
    "pred <-\n",
    "  as.data.frame(cbind(apply(taxa, 2, function(x)\n",
    "    rep(x, each = 100))))"
   ]
  },
  {
   "cell_type": "markdown",
   "id": "8b03d2ed",
   "metadata": {},
   "source": [
    "<font size=\"3\"> Set up colors using ArcadiaColorBrewer (coloring species by genus)."
   ]
  },
  {
   "cell_type": "code",
   "execution_count": 130,
   "id": "bdfac906",
   "metadata": {
    "vscode": {
     "languageId": "r"
    }
   },
   "outputs": [],
   "source": [
    "cols <-\n",
    "  c(arcadia.pal(n = 6, name = \"Accent\"),\n",
    "    arcadia.pal(n = 6, name = \"Lighter_accents\"))[1:length(unique(taxa$Genus))]\n",
    "names(cols) <- unique(taxa$Genus)\n",
    "cols <- cols[match(taxa$Genus, names(cols))]"
   ]
  },
  {
   "cell_type": "markdown",
   "id": "7bfba4e3",
   "metadata": {},
   "source": [
    "<font size=\"3\"> Plot all spectra and overlay mean spectrum (as in **Figure 1**)."
   ]
  },
  {
   "cell_type": "code",
   "execution_count": null,
   "id": "76b600a2",
   "metadata": {
    "vscode": {
     "languageId": "r"
    }
   },
   "outputs": [],
   "source": [
    "# Set up plot\n",
    "par(mfrow = c(15, 2), mar = c(1, 1, 1, 1))\n",
    "\n",
    "# Loop through and plot\n",
    "for (i in 1:length(unique(pred$Strain))) {\n",
    "  # Extract spectra\n",
    "  tmp <- x[grep(unique(pred$Strain)[i], pred$Strain),]\n",
    "  \n",
    "  # Initiate plot\n",
    "  plot(\n",
    "    tmp[1,],\n",
    "    col = alpha(cols[i], 0.05),\n",
    "    type = \"l\",\n",
    "    bty = \"n\",\n",
    "    xaxt = \"n\",\n",
    "    yaxt = \"n\",\n",
    "    xlab = \"\",\n",
    "    ylab = \"\"\n",
    "  )\n",
    "  \n",
    "  # Add lines\n",
    "  for (j in 2:nrow(tmp)) {\n",
    "    lines(tmp[j,], col = alpha(cols[i], 0.05))\n",
    "  }\n",
    "  \n",
    "  # Add mean\n",
    "  lines(m[i,], lwd = 2, col = darken_color(cols[i], factor = 2))\n",
    "  \n",
    "  # Add label\n",
    "  title(main = unique(pred$Strain)[i], font.main = 1)\n",
    "}"
   ]
  },
  {
   "cell_type": "markdown",
   "id": "915b3cc1",
   "metadata": {},
   "source": [
    "## Comparing spectra as a function of taxonomic categories (as in Figure 2)"
   ]
  },
  {
   "cell_type": "markdown",
   "id": "f92ea63a",
   "metadata": {},
   "source": [
    "---\n",
    "><font size=\"3\"> In this section we will start to explore whether strains spectrally vary as a function of **taxonomy**. To do this, we will employ the taxonomic identity matrix we set up in the previous section (the object `pred`) to assess variation associated with different levels of the taxonomic hierarchy (i.e. strain, species, genus, family, etc.).\n",
    "    \n",
    "><font size=\"3\"> First, we will compare how **generalized linear models (GLMs)** can model spectral variation using different taxonomic predictors.\n",
    "---"
   ]
  },
  {
   "cell_type": "markdown",
   "id": "313e68e8",
   "metadata": {},
   "source": [
    "<font size=\"3\"> Since spectra are high-dimensional (~1000s of measurements), it is necessary to have a lower-dimensional representation of them to use for statistical tests.\n",
    "    \n",
    "<font size=\"3\"> Here, we will use **PCA** to reduce spectral dimensions. "
   ]
  },
  {
   "cell_type": "code",
   "execution_count": null,
   "id": "d50cca47",
   "metadata": {
    "vscode": {
     "languageId": "r"
    }
   },
   "outputs": [],
   "source": [
    "pca <- prcomp(x)"
   ]
  },
  {
   "cell_type": "markdown",
   "id": "db9677ee",
   "metadata": {},
   "source": [
    "<font size=\"3\"> Plot variance explained."
   ]
  },
  {
   "cell_type": "code",
   "execution_count": null,
   "id": "da059771",
   "metadata": {
    "vscode": {
     "languageId": "r"
    }
   },
   "outputs": [],
   "source": [
    "plot(\n",
    "  cumsum((pca$sdev) ^ 2 / sum(((\n",
    "    pca$sdev\n",
    "  ) ^ 2)))[1:100] * 100,\n",
    "  ylab = \"% Variance explained\",\n",
    "  xlab = \"n PCs\",\n",
    "  pch = 20,\n",
    "  cex = 3,\n",
    "  cex.axis = 1.5,\n",
    "  cex.lab = 1.5,\n",
    "  bty = \"n\",\n",
    "  xlim = c(0, 20),\n",
    "  ylim = c(0, 100)\n",
    ")"
   ]
  },
  {
   "cell_type": "markdown",
   "id": "7c2329a7",
   "metadata": {},
   "source": [
    "<font size=\"3\"> Construct a **GLM** for each set of taxonomic predictors using PC1 as the outcome variable."
   ]
  },
  {
   "cell_type": "code",
   "execution_count": null,
   "id": "01130570",
   "metadata": {
    "vscode": {
     "languageId": "r"
    }
   },
   "outputs": [],
   "source": [
    "# Generate empty list to save results\n",
    "mods <- list()\n",
    "\n",
    "# Loop through and construct GLMs\n",
    "for (i in 1:(ncol(pred))) {\n",
    "  mods[[colnames(pred)[i]]] <- lm(pca$x[, 1] ~ pred[, i])\n",
    "}"
   ]
  },
  {
   "cell_type": "markdown",
   "id": "27c0e319",
   "metadata": {},
   "source": [
    "<font size=\"3\"> Next, we want to be able to assess how well each taxonomic category predicts spectral variation via the different GLMs. To do so, we will calculate the fit of each model using **BIC**."
   ]
  },
  {
   "cell_type": "code",
   "execution_count": null,
   "id": "b34f3ffe",
   "metadata": {
    "vscode": {
     "languageId": "r"
    }
   },
   "outputs": [],
   "source": [
    "bics <- lapply(mods, function(x)\n",
    "  BIC(x))"
   ]
  },
  {
   "cell_type": "markdown",
   "id": "4604f029",
   "metadata": {},
   "source": [
    "<font size=\"3\"> Plotting the BIC values will let us assess the different models (as in **Figure 2, B**)."
   ]
  },
  {
   "cell_type": "code",
   "execution_count": null,
   "id": "4f0a6fb6",
   "metadata": {
    "vscode": {
     "languageId": "r"
    }
   },
   "outputs": [],
   "source": [
    "# Order the BIC values\n",
    "bics <- unlist(bics)\n",
    "bics <- bics[order(bics)]\n",
    "\n",
    "# Set up colors\n",
    "cols <-\n",
    "  c(arcadia.pal(n = 6, name = \"Accent\"),\n",
    "    arcadia.pal(n = 6, name = \"Lighter_accents\"))[1:length(bics)]\n",
    "names(cols) <-\n",
    "  c(\"Species\",\n",
    "    \"Strain\",\n",
    "    \"Family\",\n",
    "    \"Domain\",\n",
    "    \"Division\",\n",
    "    \"Order\",\n",
    "    \"Class\",\n",
    "    \"Genus\")\n",
    "cols <- cols[match(names(bics), names(cols))]\n",
    "\n",
    "# Plot\n",
    "plot(\n",
    "  bics,\n",
    "  pch = 20,\n",
    "  cex = 4,\n",
    "  col = cols,\n",
    "  ylab = \"BIC\",\n",
    "  xlab = \"\",\n",
    "  cex.lab = 1.5,\n",
    "  cex.axis = 1.5,\n",
    "  xaxt = \"n\",\n",
    "  bty = \"n\"\n",
    ")\n",
    "\n",
    "# Add axis\n",
    "axis(1,\n",
    "     1:length(bics),\n",
    "     names(bics),\n",
    "     cex.axis = 1.5,\n",
    "     las = 2)"
   ]
  },
  {
   "cell_type": "markdown",
   "id": "6e0079a8",
   "metadata": {},
   "source": [
    "---\n",
    "><font size=\"3\"> From the above analyses, it appears that the models using **strain** and **species** identity as predictors have much better fits than the ones that use other taxonomic categories. \n",
    "    \n",
    "><font size=\"3\"> To complement these models, we will next explore rates intra-taxonomic variation (a potential contributor to the observed model fit variation) using **cosine similarity**.\n",
    "---"
   ]
  },
  {
   "cell_type": "markdown",
   "id": "7d852b5d",
   "metadata": {},
   "source": [
    "<font size=\"3\"> Calculate all-by-all cosine similarity."
   ]
  },
  {
   "cell_type": "code",
   "execution_count": null,
   "id": "45739e81",
   "metadata": {
    "vscode": {
     "languageId": "r"
    }
   },
   "outputs": [],
   "source": [
    "d <- lsa::cosine(t(x))"
   ]
  },
  {
   "cell_type": "markdown",
   "id": "bd0c4a0b",
   "metadata": {},
   "source": [
    "<font size=\"3\"> Visualize the overall cosine similarity distribution with a histogram."
   ]
  },
  {
   "cell_type": "code",
   "execution_count": null,
   "id": "aea03118",
   "metadata": {
    "vscode": {
     "languageId": "r"
    }
   },
   "outputs": [],
   "source": [
    "hist(\n",
    "  unlist(as.data.frame(d)),\n",
    "  cex.lab = 1.5,\n",
    "  cex.axis = 1.5,\n",
    "  xlab = \"Cosine similarity\",\n",
    "  main = \"\"\n",
    ")"
   ]
  },
  {
   "cell_type": "markdown",
   "id": "ef80e12a",
   "metadata": {},
   "source": [
    "<font size=\"3\"> Extract cosine similarities for each taxonomic group."
   ]
  },
  {
   "cell_type": "code",
   "execution_count": null,
   "id": "79360c5f",
   "metadata": {
    "vscode": {
     "languageId": "r"
    }
   },
   "outputs": [],
   "source": [
    "# Generate empty list to save results in\n",
    "res <- list()\n",
    "\n",
    "# Loop through the taxonimc group matrix ('pred') and extract cosine similarites for all associated strains\n",
    "for (i in 1:(ncol(pred))) {\n",
    "  # Split cosine similarity matrix on taxonomic unit\n",
    "  tmp <- split(as.data.frame(d), pred[, i])\n",
    "  \n",
    "  # Loop through and calculate mean per strain\n",
    "  for (j in 1:length(tmp)) {\n",
    "    tmp[[j]] <- tmp[[j]][, pred[, i] %in% names(tmp)[j]]\n",
    "    tmp[[j]] <- tmp[[j]][!tmp[[j]] == 1]\n",
    "    tmp[[j]] <- mean(tmp[[j]])\n",
    "  }\n",
    "  \n",
    "  # Add to results list\n",
    "  res[[colnames(pred)[i]]] <- unlist(tmp)\n",
    "}"
   ]
  },
  {
   "cell_type": "markdown",
   "id": "804286e5",
   "metadata": {},
   "source": [
    "<font size=\"3\"> Calculate statistics for plotting per-taxa cosine similarity."
   ]
  },
  {
   "cell_type": "code",
   "execution_count": null,
   "id": "3bbd6189",
   "metadata": {
    "vscode": {
     "languageId": "r"
    }
   },
   "outputs": [],
   "source": [
    "# Mean per group\n",
    "m1 <- unlist(lapply(res, function(y)\n",
    "  mean(y)))\n",
    "\n",
    "# Standard error\n",
    "se1 <- unlist(lapply(res, function(y)\n",
    "  plotrix::std.error(y)))\n",
    "\n",
    "# Variance\n",
    "v1 <- unlist(lapply(res, function(y)\n",
    "  var(y)))"
   ]
  },
  {
   "cell_type": "markdown",
   "id": "31ffe81c",
   "metadata": {},
   "source": [
    "<font size=\"3\"> Plot per-taxa variance (as in **Figure 2, C**)."
   ]
  },
  {
   "cell_type": "code",
   "execution_count": null,
   "id": "a929e2a3",
   "metadata": {
    "vscode": {
     "languageId": "r"
    }
   },
   "outputs": [],
   "source": [
    "# Order variance measures\n",
    "o <- order(v1)\n",
    "\n",
    "# Set up colors\n",
    "cols <-\n",
    "  c(arcadia.pal(n = 6, name = \"Accent\"),\n",
    "    arcadia.pal(n = 6, name = \"Lighter_accents\"))[1:length(v1)]\n",
    "names(cols) <-\n",
    "  c(\"Species\",\n",
    "    \"Strain\",\n",
    "    \"Family\",\n",
    "    \"Domain\",\n",
    "    \"Division\",\n",
    "    \"Order\",\n",
    "    \"Class\",\n",
    "    \"Genus\")\n",
    "cols <- cols[match(names(v1[o]), names(cols))]\n",
    "\n",
    "# Plot\n",
    "plot(\n",
    "  v1[o],\n",
    "  pch = 20,\n",
    "  cex = 3,\n",
    "  col = cols,\n",
    "  # ylim = c(0.92, 0.97),\n",
    "  ylab = \"Cosine similarity (variance)\",\n",
    "  xlab = \"\",\n",
    "  cex.lab = 1.5,\n",
    "  cex.axis = 1.5,\n",
    "  xaxt = \"n\",\n",
    "  bty = \"n\"\n",
    ")\n",
    "\n",
    "# Add axis\n",
    "axis(1,\n",
    "     1:length(v1),\n",
    "     names(v1)[o],\n",
    "     cex.axis = 1.5,\n",
    "     las = 2)"
   ]
  },
  {
   "cell_type": "markdown",
   "id": "cd942316",
   "metadata": {},
   "source": [
    "## Calculating and analyzing phylogenetic signal (as in Figure 3)"
   ]
  },
  {
   "cell_type": "markdown",
   "id": "745b1907",
   "metadata": {},
   "source": [
    "---\n",
    "><font size=\"3\"> The above analyses suggest that Raman spectra vary strongly as a function of taxonomy. In this section we will test if this variation is distributed evenly across the spectrum or, alternatively, if different portions are more predictive of phylogenetic identity.\n",
    "    \n",
    "><font size=\"3\"> We will first calculate **phylogenetic signal** (i.e. a measure of how associated a given trait measurement - here, Raman spectra - is with a phylogenetic tree) as a function of spectral position using window-based analyses.\n",
    "\n",
    ">\n",
    "---"
   ]
  },
  {
   "cell_type": "markdown",
   "id": "f3d99140",
   "metadata": {},
   "source": [
    "<font size=\"3\"> Load phylogeny (downloaded from [timetree.org](https://timetree.org/) using a taxa name query)."
   ]
  },
  {
   "cell_type": "code",
   "execution_count": null,
   "id": "4f75b7a4",
   "metadata": {
    "vscode": {
     "languageId": "r"
    }
   },
   "outputs": [],
   "source": [
    "phylo <-\n",
    "  read.newick(\"00_data/ho_2019_species_list_for_timetree.nwk\")"
   ]
  },
  {
   "cell_type": "markdown",
   "id": "29ea0aaa",
   "metadata": {},
   "source": [
    "<font size=\"3\"> Drop *Streptococcus agalactiae* as its spectrum appears to be a major outlier, possibly an experimental artifact."
   ]
  },
  {
   "cell_type": "code",
   "execution_count": null,
   "id": "ee9cedda",
   "metadata": {
    "vscode": {
     "languageId": "r"
    }
   },
   "outputs": [],
   "source": [
    "phylo <- drop.tip(phylo, \"Streptococcus_agalactiae\")"
   ]
  },
  {
   "cell_type": "markdown",
   "id": "947b9042",
   "metadata": {},
   "source": [
    "<font size=\"3\"> Calculate mean spectra per species."
   ]
  },
  {
   "cell_type": "code",
   "execution_count": null,
   "id": "a36d17b1",
   "metadata": {
    "vscode": {
     "languageId": "r"
    }
   },
   "outputs": [],
   "source": [
    "# Split the mean spetrum matrix on species name\n",
    "m2 <-\n",
    "  split(as.data.frame(m), paste(taxa$Genus, taxa$Species, sep = \"_\"))\n",
    "\n",
    "# Calculate mean spectra by species\n",
    "m2 <- lapply(m2, function(x)\n",
    "  colMeans(x))\n",
    "\n",
    "# Recombine\n",
    "m2 <- do.call(rbind, m2)\n",
    "\n",
    "# Remove Streptococcus agalactiae\n",
    "m2 <- m2[!rownames(m2) == \"Streptococcus_agalactiae\",]"
   ]
  },
  {
   "cell_type": "markdown",
   "id": "ec4e9037",
   "metadata": {},
   "source": [
    "<font size=\"3\"> Compute phylogenetic signal within windows of size *n* along the spectrum."
   ]
  },
  {
   "cell_type": "code",
   "execution_count": null,
   "id": "715aee27",
   "metadata": {
    "vscode": {
     "languageId": "r"
    }
   },
   "outputs": [],
   "source": [
    "# Set length\n",
    "len <- 25\n",
    "\n",
    "# Extract spectral windows of desired size using the function 'split_with_overlap'\n",
    "win <- split_with_overlap(as.data.frame(m2), len, len - 1)[1:(ncol(m2) - len)]\n",
    "\n",
    "# Generate empty list for saving results\n",
    "win_phy <- list()\n",
    "\n",
    "# Loop and calculate phylogenetic signal\n",
    "for (i in 1:length(win)) {\n",
    "  # Reduce the dimensions of spectra in the window from size n to 1 via PCA\n",
    "  p <- prcomp(win[[i]])\n",
    "  \n",
    "  # Match PCA results with phylogeny ordering\n",
    "  p <- p$x[match(phylo$tip.label, rownames(p$x)), 2]\n",
    "  \n",
    "  # Reduce the dimensions of spectra in the window from size n to 1 via calculating the mean\n",
    "  mn <- colMeans(t(win[[i]]))\n",
    "  \n",
    "  # Compute phylogenetic signal using spectral means\n",
    "  mn <- phylosig(phylo, mn, method = \"lambda\")[1]$lambda\n",
    "  \n",
    "  # Compute phylogenetic signal using PC1\n",
    "  p <- phylosig(phylo, p, method = \"lambda\")[1]$lambda\n",
    "  \n",
    "  # Combine into a list\n",
    "  l <- list(mn, p)\n",
    "  \n",
    "  # Add names\n",
    "  names(l) <- c(\"mean\", \"pca\")\n",
    "    \n",
    "  # Add to results list\n",
    "  win_phy[[as.character(i)]] <- l\n",
    "}\n",
    "\n",
    "# Extract results for PC ('pc') and spectral mean ('mn') metrics\n",
    "pc <- unlist(lapply(win_phy, function(x)\n",
    "  x$pca))\n",
    "mn <- unlist(lapply(win_phy, function(x)\n",
    "  x$mean))"
   ]
  },
  {
   "cell_type": "markdown",
   "id": "9bd9df5a",
   "metadata": {},
   "source": [
    "<font size=\"3\"> Plot window-based phylogenetic signal (as in **Figure 3, A**)."
   ]
  },
  {
   "cell_type": "code",
   "execution_count": null,
   "id": "674ce5fd",
   "metadata": {
    "vscode": {
     "languageId": "r"
    }
   },
   "outputs": [],
   "source": [
    "options(repr.plot.width = 12, repr.plot.height = 4)\n",
    "plot(\n",
    "  wav[1:length(mn)],\n",
    "  mn,\n",
    "  type = \"l\",\n",
    "  lwd = 1.5,\n",
    "  bty = \"n\",\n",
    "  ylim = c(0, 0.8),\n",
    "  cex.axis = 1.5,\n",
    "  cex.lab = 1.5,\n",
    "  ylab = \"Phylogenetic signal\",\n",
    "  xlab = \"Wavenumber (cm -1)\"\n",
    ")"
   ]
  },
  {
   "cell_type": "markdown",
   "id": "04f5585e",
   "metadata": {},
   "source": [
    "---\n",
    "><font size=\"3\"> We observe above that there are clear bands within the spectrum that display conservation (elevated phylogenetic signal). Since these types of patterns can be arrived at by different phylogenetic relationships, we will next start to explore whether or not these bands reflect varying types of trait differentiation among species. \n",
    "    \n",
    "><font size=\"3\"> To do so, we will calculate the distance between species spectra within windows and connect this to the phylogeny, allowing us to infer the differences (**spectral distance**) between species over evolutionary time.\n",
    ">\n",
    "---"
   ]
  },
  {
   "cell_type": "markdown",
   "id": "a5a1ba1b",
   "metadata": {},
   "source": [
    "<font size=\"3\"> Calculate **spectral distance** as a function of position."
   ]
  },
  {
   "cell_type": "code",
   "execution_count": null,
   "id": "01932279",
   "metadata": {
    "vscode": {
     "languageId": "r"
    }
   },
   "outputs": [],
   "source": [
    "# Generate empty list for saving results\n",
    "win_dist <- list()\n",
    "\n",
    "# Loop and calculate phylogenetic signal\n",
    "for (i in 1:length(win)) {\n",
    "  # Calculate distance between strains\n",
    "  p <- as.matrix(dist(win[[i]]))\n",
    "  \n",
    "  # Add to results list\n",
    "  win_dist[[as.character(i)]] <- unlist(as.data.frame(p))\n",
    "}\n",
    "\n",
    "# Combine results in matrix\n",
    "win_dist <- do.call(cbind, win_dist)"
   ]
  },
  {
   "cell_type": "markdown",
   "id": "2a03a226",
   "metadata": {},
   "source": [
    "<font size=\"3\"> To be able to analyze **spectral distance** over evolutionary time we need to know the divergence time between all species in our tree. This can be obtained by calculating the **cophenic distances** between all species, giving us a specific measure of divergence in years between species."
   ]
  },
  {
   "cell_type": "code",
   "execution_count": null,
   "id": "77dfcb82",
   "metadata": {
    "vscode": {
     "languageId": "r"
    }
   },
   "outputs": [],
   "source": [
    "# Calculate cophenic distances\n",
    "cophen = cophenetic.phylo(phylo)\n",
    "\n",
    "# Calculate distances\n",
    "p = as.matrix(dist(t(cophen)))\n",
    "\n",
    "# Convert to three column matrix\n",
    "p = as.data.frame(as.table(p))\n",
    "\n",
    "# Normalize distance by maximum branch length to place on billion year scale\n",
    "a = max(p$Freq)/max(phylo$edge.length)\n",
    "p$Freq = p$Freq/a\n",
    "\n",
    "# Generate empty list to save results\n",
    "cophen_times <- list()\n",
    "\n",
    "# Loop and calculate cophenic distance in windows\n",
    "for (i in 1:length(win)) {\n",
    "  # Empty list to save results\n",
    "  res <- list()\n",
    "  \n",
    "  # Calculate distance in window\n",
    "  d <- as.matrix(dist(win[[i]]))\n",
    "  \n",
    "  # Convert to three column matrix\n",
    "  d <- as.data.frame(as.table(d))\n",
    "  \n",
    "  # Looop through and calculate as a function of time\n",
    "  for (j in 0:round(max(p$Freq))) {\n",
    "    # Filter on cophenetic distances\n",
    "    z <- d[which(p$Freq >= j),]\n",
    "    \n",
    "    # Remove self comparisons\n",
    "    z <- z[!z[, 1] == z[, 2],]\n",
    "    \n",
    "    # Add to list\n",
    "    res[[as.character(j)]] <- z\n",
    "  }\n",
    "  \n",
    "  # Calculate mean\n",
    "  p_mean <- unlist(lapply(res, function(x)\n",
    "    mean(x$Freq)))\n",
    "  \n",
    "  # Add to list\n",
    "  cophen_times[[as.character(i)]] <- p_mean\n",
    "}\n",
    "\n",
    "# Combine into matrix\n",
    "time_mat <- do.call(cbind, cophen_times)"
   ]
  },
  {
   "cell_type": "markdown",
   "id": "370d38cd",
   "metadata": {},
   "source": [
    "<font size=\"3\"> Visualize as a heatmap (x-axis is spectral position)."
   ]
  },
  {
   "cell_type": "code",
   "execution_count": null,
   "id": "66d2c6a0",
   "metadata": {
    "vscode": {
     "languageId": "r"
    }
   },
   "outputs": [],
   "source": [
    "options(repr.plot.width=12, repr.plot.height=4)\n",
    "\n",
    "# Heatmap\n",
    "image(t(time_mat),\n",
    "      xaxt = \"n\",\n",
    "      yaxt = \"n\",\n",
    "      bty = \"n\")\n",
    "\n",
    "# Add line corresponding to max distance\n",
    "y <-\n",
    "  t(unlist(lapply(cophen_times, function(x)\n",
    "    which.max(x) / length(x))))\n",
    "x <- (1:length(y) / length(y))\n",
    "lines(x, y, lwd = 3)"
   ]
  },
  {
   "cell_type": "markdown",
   "id": "116ab707",
   "metadata": {},
   "source": [
    "---\n",
    "><font size=\"3\"> It appears that **spectral distance** varies quite a bit as a function of position, suggesting that different parts of the Raman spectra may reflect different evolutionary relationships among species (e.g. greater spectral distances at ancient nodes or smaller distances distributed evenly across time). \n",
    "    \n",
    "><font size=\"3\"> Next, let's see if these patterns reflect specific relationships between spectral differences and the phylogenetic tree. To do this we will calculate the distance between trees made from spectral relationships and the phylogenetic tree using the **Robinson-Foulds metric**.\n",
    "---"
   ]
  },
  {
   "cell_type": "markdown",
   "id": "35c4b8a7",
   "metadata": {},
   "source": [
    "<font size=\"3\"> Calculate distance from tree in windows (using the Robinson-Foulds metric)."
   ]
  },
  {
   "cell_type": "code",
   "execution_count": null,
   "id": "c485dd7e",
   "metadata": {
    "vscode": {
     "languageId": "r"
    }
   },
   "outputs": [],
   "source": [
    "# Set length\n",
    "len <- 25\n",
    "\n",
    "# Generate empty list to save results\n",
    "win_tree <- list()\n",
    "\n",
    "# Loop and calculate tree distances\n",
    "for (i in 1:length(win)) {\n",
    "  # Generate a tree for given window using neighbor joining\n",
    "  z <- as.phylo(nj(dist(win[[i]])))\n",
    "  \n",
    "  # Compare to the phylogenetic tree using the 'TreeDistance' function (Robinson-Foulds metric)\n",
    "  win_tree[[as.character(i)]] <- TreeDist::TreeDistance(phylo, z)\n",
    "}"
   ]
  },
  {
   "cell_type": "markdown",
   "id": "c51e2473",
   "metadata": {},
   "source": [
    "<font size=\"3\"> Plot."
   ]
  },
  {
   "cell_type": "code",
   "execution_count": null,
   "id": "69686ac7",
   "metadata": {
    "vscode": {
     "languageId": "r"
    }
   },
   "outputs": [],
   "source": [
    "options(repr.plot.width=12, repr.plot.height=4)\n",
    "\n",
    "plot(\n",
    "  wav[1:length(win_tree)],\n",
    "  unlist(win_tree),\n",
    "  type = \"l\",\n",
    "  lwd = 1.5,\n",
    "  ylab = \"Distance to genetic tree\",\n",
    "  cex.axis = 1.5,\n",
    "  cex.lab = 1.5,\n",
    "  bty = \"n\",\n",
    "  xlab = \"Wavenumber\"\n",
    ")"
   ]
  },
  {
   "cell_type": "markdown",
   "id": "ae09779b",
   "metadata": {},
   "source": [
    "---\n",
    "><font size=\"3\"> Now let's jointly visualize phylogenetic signal, spectral distance, and tree distance to allow investigation of there relationships.\n",
    ">\n",
    "---"
   ]
  },
  {
   "cell_type": "code",
   "execution_count": null,
   "id": "809b2e30",
   "metadata": {
    "vscode": {
     "languageId": "r"
    }
   },
   "outputs": [],
   "source": [
    "options(repr.plot.width = 12, repr.plot.height = 12)\n",
    "par(mfrow = c(3, 1))\n",
    "\n",
    "# Phylogenetic signal\n",
    "plot(\n",
    "  wav[1:length(mn)],\n",
    "  mn,\n",
    "  type = \"l\",\n",
    "  lwd = 1.5,\n",
    "  bty = \"n\",\n",
    "  ylim = c(0, 0.8),\n",
    "  cex.axis = 1.5,\n",
    "  cex.lab = 1.5,\n",
    "  ylab = \"Phylogenetic signal\",\n",
    "  xlab = \"Wavenumber (cm -1)\"\n",
    ")\n",
    "\n",
    "# Spectral distance\n",
    "image(t(time_mat),\n",
    "      xaxt = \"n\",\n",
    "      yaxt = \"n\",\n",
    "      bty = \"n\")\n",
    "y <-\n",
    "  t(unlist(lapply(cophen_times, function(x)\n",
    "    which.max(x) / length(x))))\n",
    "x <- (1:length(y) / length(y))\n",
    "lines(x, y, lwd = 3)\n",
    "\n",
    "# Tree distance\n",
    "plot(\n",
    "  wav[1:length(win_tree)],\n",
    "  unlist(win_tree),\n",
    "  type = \"l\",\n",
    "  lwd = 1.5,\n",
    "  ylab = \"Distance to genetic tree\",\n",
    "  cex.axis = 1.5,\n",
    "  cex.lab = 1.5,\n",
    "  bty = \"n\",\n",
    "  xlab = \"Wavenumber\"\n",
    ")"
   ]
  },
  {
   "cell_type": "markdown",
   "id": "ac913bf6",
   "metadata": {},
   "source": [
    "## Compare phylogenetic signal and genome features (as in Figure 4)"
   ]
  },
  {
   "cell_type": "markdown",
   "id": "517d90cd",
   "metadata": {},
   "source": [
    "---\n",
    "><font size=\"3\"> Finally, in this section, we will see if features of the genome (e.g. number of proteins or GC content) reflect the patterns observed in the previous sections. \n",
    "    \n",
    "><font size=\"3\"> We will use the genomic summary statistics collected from [NCBI](\"https://www.ncbi.nlm.nih.gov/genome/\") to do this (pre-compiled, provided in [this repository](https://github.com/Arcadia-Science/raman-taxonomy/raw/main/00_data/ncbi/taxonomic_groups.csv)).   \n",
    ">\n",
    "---"
   ]
  },
  {
   "cell_type": "markdown",
   "id": "49014ad1",
   "metadata": {},
   "source": [
    "<font size=\"3\"> Load and clean genome feature data."
   ]
  },
  {
   "cell_type": "code",
   "execution_count": null,
   "id": "274fb796",
   "metadata": {
    "vscode": {
     "languageId": "r"
    }
   },
   "outputs": [],
   "source": [
    "# Load genome statistics\n",
    "size <-\n",
    "  read.csv(\"00_data/ho_2019_expanded_genome_statistics.csv\")\n",
    "\n",
    "# Clean and convert to data frame\n",
    "size <-\n",
    "  as.data.frame(apply(size, 2, function(x)\n",
    "    gsub(\"\\\\,\", \"\", x)))\n",
    "\n",
    "# Match genome size matrix to order of spectral data\n",
    "size <- size[match(rownames(pca$x), gsub(\" \", \"_\", size$Genome)),]\n",
    "\n",
    "# Remove 'Streptococcus_agalactiae'\n",
    "size <- size[!size$Genome == \"Streptococcus agalactiae\",]                    "
   ]
  },
  {
   "cell_type": "markdown",
   "id": "a79c834e",
   "metadata": {},
   "source": [
    "<font size=\"3\"> Compare the relationship between genome features and spectra in windows."
   ]
  },
  {
   "cell_type": "code",
   "execution_count": null,
   "id": "53ca5529",
   "metadata": {
    "vscode": {
     "languageId": "r"
    }
   },
   "outputs": [],
   "source": [
    "# Set length\n",
    "len <- 25\n",
    "\n",
    "# Generate empty list to save results\n",
    "mods <- list()\n",
    "\n",
    "# Loop through and calculate\n",
    "for (i in 1:(ncol(m2) - len)) {\n",
    "  # Extract mean strain spectra for given window\n",
    "  d <- m2[, i:(i + len)]\n",
    "  \n",
    "  # PCA\n",
    "  pca <- prcomp(d)\n",
    "  \n",
    "  # Fit GLMs for each genomic feature within the given window\n",
    "  o <-\n",
    "    apply(size[, 2:ncol(size)], 2, function(x)\n",
    "      summary(lm(pca$x[, 1] ~ as.numeric(x)))[9])\n",
    "  \n",
    "  # Add to list\n",
    "  mods[[as.character(i)]] <- o\n",
    "}"
   ]
  },
  {
   "cell_type": "markdown",
   "id": "2a3fcef2",
   "metadata": {},
   "source": [
    "<font size=\"3\"> Plot with phylogenetic signal."
   ]
  },
  {
   "cell_type": "code",
   "execution_count": null,
   "id": "accce7f7",
   "metadata": {
    "vscode": {
     "languageId": "r"
    }
   },
   "outputs": [],
   "source": [
    "options(repr.plot.width = 12, repr.plot.height = 4)\n",
    "\n",
    "# Plot phylogenetic signal\n",
    "plot(\n",
    "  wav[1:length(mn)],\n",
    "  mn,\n",
    "  type = \"l\",\n",
    "  bty = \"n\",\n",
    "  col = \"#3B9886\",\n",
    "  ylim = c(-0.1, 0.8),\n",
    "  cex.axis = 1.5,\n",
    "  cex.lab = 1.5,\n",
    "  lwd = 1.5,\n",
    "  ylab = \"Phylogenetic signal\",\n",
    "  xlab = \"Wavenumber (cm -1)\"\n",
    ")\n",
    "\n",
    "# Add GC line\n",
    "lines(wav[1:length(mn)],\n",
    "      lwd = 1.5,\n",
    "      unlist(lapply(mods, function(x)\n",
    "        x$GC.)),\n",
    "      col = \"#F898AE\")"
   ]
  },
  {
   "cell_type": "markdown",
   "id": "e2a64294",
   "metadata": {},
   "source": [
    "<font size=\"3\"> Predict phylogenetic signal via GLM using the genome feature models."
   ]
  },
  {
   "cell_type": "code",
   "execution_count": null,
   "id": "2a77fc4d",
   "metadata": {
    "vscode": {
     "languageId": "r"
    }
   },
   "outputs": [],
   "source": [
    "mod <- lm(\n",
    "  mn ~ unlist(lapply(mods, function(x)\n",
    "    x$Size..Mb.)) +\n",
    "    unlist(lapply(mods, function(x)\n",
    "      x$GC.)) +\n",
    "    unlist(lapply(mods, function(x)\n",
    "      x$Protein)) +\n",
    "    unlist(lapply(mods, function(x)\n",
    "      x$rRNA)) +\n",
    "    unlist(lapply(mods, function(x)\n",
    "      x$tRNA)) +\n",
    "    unlist(lapply(mods, function(x)\n",
    "      x$Other.RNA)) +\n",
    "    unlist(lapply(mods, function(x)\n",
    "      x$Gene)) +\n",
    "    unlist(lapply(mods, function(x)\n",
    "      x$Pseudogene))\n",
    ")"
   ]
  },
  {
   "cell_type": "markdown",
   "id": "a21b02c5",
   "metadata": {},
   "source": [
    "<font size=\"3\"> Analyse the model."
   ]
  },
  {
   "cell_type": "code",
   "execution_count": null,
   "id": "f2cb6dc0",
   "metadata": {
    "vscode": {
     "languageId": "r"
    }
   },
   "outputs": [],
   "source": [
    "summary(mod)"
   ]
  },
  {
   "cell_type": "markdown",
   "id": "e07d8fa1",
   "metadata": {},
   "source": [
    "<font size=\"3\"> Correlate window-based phylogenetic signal with genome feature associations."
   ]
  },
  {
   "cell_type": "code",
   "execution_count": null,
   "id": "cc0d3644",
   "metadata": {
    "vscode": {
     "languageId": "r"
    }
   },
   "outputs": [],
   "source": [
    "# Generate empty vector to save results\n",
    "cors <- c()\n",
    "\n",
    "# Loop and correlate\n",
    "for (i in 1:length(mods[[1]])) {\n",
    "  cors <- c(cors, cor(mn, unlist(lapply(mods, function(x)\n",
    "    x[i]))))\n",
    "}\n",
    "\n",
    "# Add genome feature names\n",
    "names(cors) <- names(mods[[1]])"
   ]
  },
  {
   "cell_type": "markdown",
   "id": "47f13091",
   "metadata": {},
   "source": [
    "<font size=\"3\"> Plot correlation coefficients."
   ]
  },
  {
   "cell_type": "code",
   "execution_count": null,
   "id": "ad0aea65",
   "metadata": {
    "vscode": {
     "languageId": "r"
    }
   },
   "outputs": [],
   "source": [
    "options(repr.plot.width=8, repr.plot.height=8)\n",
    "\n",
    "# Plot\n",
    "bp <- barplot(\n",
    "  rev(cors),\n",
    "  horiz = TRUE,\n",
    "  xlim = c(-0.8, 0.8),\n",
    "  las = 1,\n",
    "  xlab = \"Correlation coefficient\",\n",
    "  ylab = \"\",\n",
    "  cex.lab = 1.5,\n",
    "  cex.axis = 1.5,\n",
    "  names.arg = \"\",\n",
    "  col = c(rep(\"gray80\", 6), \"#F898AE\", \"gray80\"),\n",
    "  border = c(rep(\"gray80\", 6), \"#F898AE\", \"gray80\")\n",
    ")\n",
    "\n",
    "# Add labels\n",
    "lab <-\n",
    "  c(\n",
    "    \"Genome size\",\n",
    "    \"GC content\",\n",
    "    \"Protein #\",\n",
    "    \"rRNA #\",\n",
    "    \"tRNA #\",\n",
    "    \"Other RNA #\",\n",
    "    \"Gene #\",\n",
    "    \"Pseudogene #\"\n",
    "  )\n",
    "text(0, bp, rev(lab), cex = 1.5, pos = 4)"
   ]
  },
  {
   "cell_type": "code",
   "execution_count": null,
   "id": "7daa0eef",
   "metadata": {},
   "outputs": [],
   "source": []
  }
 ],
 "metadata": {
  "kernelspec": {
   "display_name": "R",
   "language": "R",
   "name": "ir"
  },
  "language_info": {
   "codemirror_mode": "r",
   "file_extension": ".r",
   "mimetype": "text/x-r-source",
   "name": "R",
   "pygments_lexer": "r",
   "version": "4.2.2"
  }
 },
 "nbformat": 4,
 "nbformat_minor": 5
}
